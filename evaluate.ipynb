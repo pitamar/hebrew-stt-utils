{
 "cells": [
  {
   "cell_type": "code",
   "execution_count": 1,
   "metadata": {},
   "outputs": [
    {
     "name": "stderr",
     "output_type": "stream",
     "text": [
      "################################################################################\n",
      "### WARNING, path does not exist: KALDI_ROOT=/mnt/matylda5/iveselyk/Tools/kaldi-trunk\n",
      "###          (please add 'export KALDI_ROOT=<your_path>' in your $HOME/.profile)\n",
      "###          (or run as: KALDI_ROOT=<your_path> python <your_script>.py)\n",
      "################################################################################\n",
      "\n"
     ]
    },
    {
     "name": "stdout",
     "output_type": "stream",
     "text": [
      "[NeMo I 2020-07-09 19:37:34 features:144] PADDING: 16\n",
      "[NeMo I 2020-07-09 19:37:34 features:152] STFT using conv\n",
      "[NeMo I 2020-07-09 19:38:18 jasper_infer:98] ================================\n",
      "[NeMo I 2020-07-09 19:38:18 jasper_infer:99] Number of parameters in encoder: 18894656\n",
      "[NeMo I 2020-07-09 19:38:18 jasper_infer:100] Number of parameters in decoder: 25625\n",
      "[NeMo I 2020-07-09 19:38:18 jasper_infer:101] Total number of parameters in model: 18920281\n",
      "[NeMo I 2020-07-09 19:38:18 jasper_infer:102] ================================\n"
     ]
    }
   ],
   "source": [
    "from pydub import AudioSegment\n",
    "from IPython.display import Audio, display\n",
    "from ipywebrtc import CameraStream, AudioRecorder\n",
    "import json\n",
    "import ipywidgets\n",
    "from nemo.jasper_infer import initialize_model\n",
    "\n",
    "modules = initialize_model(\n",
    "    model_config='/code/hebrew-stt/jasper_checkpoints/quartznet_orig/quartznet15x5_custom.yaml',\n",
    "    load_dir='/code/hebrew-stt/jasper_checkpoints/quartznet_multi_gpu_31.84_WER',\n",
    "    amp_opt_level='O0',\n",
    "    lm_path='/code/corpus/combined.wiki.opensubtitles.bin',\n",
    "    alpha=0.72,\n",
    "    beta=0.8,\n",
    "    beam_width=128,\n",
    ")"
   ]
  },
  {
   "cell_type": "code",
   "execution_count": 10,
   "metadata": {
    "scrolled": true
   },
   "outputs": [
    {
     "data": {
      "application/vnd.jupyter.widget-view+json": {
       "model_id": "4a7113038a704bb2bdfd3f8b94b15943",
       "version_major": 2,
       "version_minor": 0
      },
      "text/plain": [
       "HTML(value='')"
      ]
     },
     "metadata": {},
     "output_type": "display_data"
    },
    {
     "data": {
      "application/vnd.jupyter.widget-view+json": {
       "model_id": "ec2be30368434f51a8baa218809791c5",
       "version_major": 2,
       "version_minor": 0
      },
      "text/plain": [
       "HTML(value='')"
      ]
     },
     "metadata": {},
     "output_type": "display_data"
    },
    {
     "data": {
      "application/vnd.jupyter.widget-view+json": {
       "model_id": "24bd4f73784844b893345c7ba2e7033f",
       "version_major": 2,
       "version_minor": 0
      },
      "text/plain": [
       "HTML(value='')"
      ]
     },
     "metadata": {},
     "output_type": "display_data"
    },
    {
     "data": {
      "application/vnd.jupyter.widget-view+json": {
       "model_id": "69bc078fad984ff0a7abd91882bcb7bf",
       "version_major": 2,
       "version_minor": 0
      },
      "text/plain": [
       "AudioRecorder(audio=Audio(value=b'', format='webm'), stream=CameraStream(constraints={'audio': {'sample_rate':…"
      ]
     },
     "metadata": {},
     "output_type": "display_data"
    },
    {
     "data": {
      "application/vnd.jupyter.widget-view+json": {
       "model_id": "f8b8456471294563ac20fe5e354e6d3c",
       "version_major": 2,
       "version_minor": 0
      },
      "text/plain": [
       "Button(description='Redo inference', style=ButtonStyle())"
      ]
     },
     "metadata": {},
     "output_type": "display_data"
    }
   ],
   "source": [
    "import nemo.jasper_infer as jasper_infer\n",
    "import importlib\n",
    "import traceback\n",
    "import ipywidgets\n",
    "importlib.reload(jasper_infer)\n",
    "\n",
    "\n",
    "def render_result(title, value):\n",
    "    result = f'''\n",
    "    <div style=\"direction: rtl\">\n",
    "        <h3 style=\"font-weight: bold;\">{title}</h3>\n",
    "        <div style=\"font-size: 1.4em\">{value if len(value) else \"~~~ EMPTY ~~~\"}</div>\n",
    "    </div>'''\n",
    "    return result\n",
    "\n",
    "\n",
    "def on_change(change):\n",
    "    error.value = ''\n",
    "    \n",
    "    try:\n",
    "        greedy_result.value = render_result('Greedy decoding', '~~~ LOADING ~~~')\n",
    "        beam_search_result.value = render_result('Beam search decoding', '~~~ LOADING ~~~')\n",
    "\n",
    "\n",
    "        recorder.save('/tmp/recording.wav')\n",
    "        !ffmpeg -hide_banner -loglevel panic -y -i /tmp/recording.wav -ar 16000 /tmp/recording_16k.wav\n",
    "        !cp \"/tmp/recording_16k.wav\" \"recordings/recording.$(ls recordings | wc -l).$(date +%Y-%m-%d_%H-%M-%S).wav\"\n",
    "\n",
    "        infer()\n",
    "    except Exception as e:\n",
    "        tb = traceback.format_exc()\n",
    "        error.value = f'''<pre>{tb}</pre>'''\n",
    "\n",
    "        \n",
    "def infer():\n",
    "    try:\n",
    "        result = jasper_infer.infer(modules, '/tmp/recording_16k.wav')\n",
    "        greedy_result.value = render_result('Greedy decoding', result['greedy'])\n",
    "        beam_search_result.value = render_result('Beam search decoding', result['beam'])\n",
    "    except Exception as e:\n",
    "        tb = traceback.format_exc()\n",
    "        error.value = f'''<pre>{tb}</pre>'''\n",
    "        \n",
    "    \n",
    "error = ipywidgets.HTML()\n",
    "display(error)\n",
    "    \n",
    "greedy_result = ipywidgets.HTML()\n",
    "display(greedy_result)\n",
    "\n",
    "beam_search_result = ipywidgets.HTML()\n",
    "display(beam_search_result)\n",
    "\n",
    "greedy_result.value = render_result('Greedy decoding', '')\n",
    "beam_search_result.value = render_result('Beam search decoding', '')\n",
    "    \n",
    "\n",
    "camera = CameraStream(constraints={'audio': { 'sample_rate': 16000 },\n",
    "                                   'video': False})\n",
    "recorder = AudioRecorder(stream=camera)   \n",
    "recorder.audio.observe(on_change, 'value')\n",
    "display(recorder)\n",
    "\n",
    "reinfer_button = ipywidgets.Button(description='Redo inference')\n",
    "reinfer_button.on_click(infer)\n",
    "display(reinfer_button)"
   ]
  },
  {
   "cell_type": "code",
   "execution_count": 3,
   "metadata": {
    "scrolled": false
   },
   "outputs": [],
   "source": [
    "# recorder.save('/tmp/recording.wav')\n",
    "# !ffmpeg -hide_banner -loglevel panic -y -i /tmp/recording.wav -ar 16000 /tmp/recording_16k.wav\n",
    "# !KALDI_ROOT=/tmp python /code/nemo/nemo/jasper_infer.py \\\n",
    "# --input_wav /tmp/recording_16k.wav \\\n",
    "# --model_config /code/hebrew-stt/jasper_checkpoints/quartznet_orig/quartznet15x5_custom.yaml \\\n",
    "# --load_dir /code/hebrew-stt/jasper_checkpoints/quartznet_multi_gpu_31.84_WER \\\n",
    "# --amp_opt_level O0 \\\n",
    "# --lm_path /code/hebrew-stt/lm/wiki.bin \\\n",
    "# --alpha 0.76 \\\n",
    "# --beta 0.72 \\\n",
    "# ;"
   ]
  }
 ],
 "metadata": {
  "kernelspec": {
   "display_name": "hebrew-stt-venv",
   "language": "python",
   "name": "hebrew-stt-venv"
  },
  "language_info": {
   "codemirror_mode": {
    "name": "ipython",
    "version": 3
   },
   "file_extension": ".py",
   "mimetype": "text/x-python",
   "name": "python",
   "nbconvert_exporter": "python",
   "pygments_lexer": "ipython3",
   "version": "3.6.9"
  }
 },
 "nbformat": 4,
 "nbformat_minor": 4
}
